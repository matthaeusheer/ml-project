{
 "cells": [
  {
   "cell_type": "markdown",
   "metadata": {},
   "source": [
    "# Import section"
   ]
  },
  {
   "cell_type": "code",
   "execution_count": 10,
   "metadata": {},
   "outputs": [
    {
     "name": "stdout",
     "output_type": "stream",
     "text": [
      "The autoreload extension is already loaded. To reload it, use:\n",
      "  %reload_ext autoreload\n"
     ]
    }
   ],
   "source": [
    "%load_ext autoreload\n",
    "%autoreload 2\n",
    "\n",
    "from pprint import pprint\n",
    "import matplotlib.pyplot as plt\n",
    "import numpy as np\n",
    "import pandas as pd\n",
    "\n",
    "import scikitplot as skplot\n",
    "from sklearn import linear_model\n",
    "from sklearn.pipeline import make_pipeline, Pipeline\n",
    "from sklearn.model_selection import GridSearchCV, cross_validate\n",
    "from sklearn.decomposition import PCA\n",
    "from sklearn.linear_model import Ridge\n",
    "from sklearn.metrics import mean_squared_error\n",
    "from sklearn.metrics import make_scorer\n",
    "\n",
    "from context import ml_project\n",
    "from ml_project.io import DataHandler"
   ]
  },
  {
   "cell_type": "code",
   "execution_count": 11,
   "metadata": {},
   "outputs": [],
   "source": [
    "# To surpress sklearn warnings\n",
    "def warn(*args, **kwargs):\n",
    "    pass\n",
    "import warnings\n",
    "warnings.warn = warn"
   ]
  },
  {
   "cell_type": "markdown",
   "metadata": {},
   "source": [
    "# Download data - HowTo"
   ]
  },
  {
   "cell_type": "markdown",
   "metadata": {},
   "source": [
    "1) Download the zip folder holding the data  \n",
    "2) Create a directory inside the <PROJECT_ROOT_DIR>/data and give it a suitable name <DIR_NAME>, e.g. \"task1a_data\"   \n",
    "3) Extract the files from the zip folder into <DIR_NAME>  \n",
    "4) Set the correct <DIR_NAME> in the following cell...  "
   ]
  },
  {
   "cell_type": "code",
   "execution_count": 12,
   "metadata": {},
   "outputs": [],
   "source": [
    "DIR_NAME = 'task1a_data'"
   ]
  },
  {
   "cell_type": "markdown",
   "metadata": {},
   "source": [
    "# Load training data"
   ]
  },
  {
   "cell_type": "code",
   "execution_count": 13,
   "metadata": {},
   "outputs": [],
   "source": [
    "data_handler = DataHandler(DIR_NAME)\n",
    "train_data = data_handler.load_train_data()\n",
    "\n",
    "train_X = train_data.drop(['y'], axis=1)\n",
    "train_Y = train_data['y']"
   ]
  },
  {
   "cell_type": "code",
   "execution_count": 14,
   "metadata": {
    "scrolled": true
   },
   "outputs": [
    {
     "data": {
      "text/html": [
       "<div>\n",
       "<style scoped>\n",
       "    .dataframe tbody tr th:only-of-type {\n",
       "        vertical-align: middle;\n",
       "    }\n",
       "\n",
       "    .dataframe tbody tr th {\n",
       "        vertical-align: top;\n",
       "    }\n",
       "\n",
       "    .dataframe thead th {\n",
       "        text-align: right;\n",
       "    }\n",
       "</style>\n",
       "<table border=\"1\" class=\"dataframe\">\n",
       "  <thead>\n",
       "    <tr style=\"text-align: right;\">\n",
       "      <th></th>\n",
       "      <th>x1</th>\n",
       "      <th>x2</th>\n",
       "      <th>x3</th>\n",
       "      <th>x4</th>\n",
       "      <th>x5</th>\n",
       "      <th>x6</th>\n",
       "      <th>x7</th>\n",
       "      <th>x8</th>\n",
       "      <th>x9</th>\n",
       "      <th>x10</th>\n",
       "    </tr>\n",
       "    <tr>\n",
       "      <th>Id</th>\n",
       "      <th></th>\n",
       "      <th></th>\n",
       "      <th></th>\n",
       "      <th></th>\n",
       "      <th></th>\n",
       "      <th></th>\n",
       "      <th></th>\n",
       "      <th></th>\n",
       "      <th></th>\n",
       "      <th></th>\n",
       "    </tr>\n",
       "  </thead>\n",
       "  <tbody>\n",
       "    <tr>\n",
       "      <th>0</th>\n",
       "      <td>0.886865</td>\n",
       "      <td>0.400531</td>\n",
       "      <td>1.103694</td>\n",
       "      <td>0.135455</td>\n",
       "      <td>8.148069</td>\n",
       "      <td>9.787555</td>\n",
       "      <td>79.749674</td>\n",
       "      <td>0.045166</td>\n",
       "      <td>1.859346</td>\n",
       "      <td>1.0</td>\n",
       "    </tr>\n",
       "    <tr>\n",
       "      <th>1</th>\n",
       "      <td>0.303604</td>\n",
       "      <td>-1.661598</td>\n",
       "      <td>0.772695</td>\n",
       "      <td>1.696182</td>\n",
       "      <td>0.455550</td>\n",
       "      <td>86.413653</td>\n",
       "      <td>39.365705</td>\n",
       "      <td>-0.014858</td>\n",
       "      <td>0.821406</td>\n",
       "      <td>1.0</td>\n",
       "    </tr>\n",
       "    <tr>\n",
       "      <th>2</th>\n",
       "      <td>1.065927</td>\n",
       "      <td>-1.607320</td>\n",
       "      <td>0.063896</td>\n",
       "      <td>-0.724311</td>\n",
       "      <td>-0.088216</td>\n",
       "      <td>0.132828</td>\n",
       "      <td>-0.011718</td>\n",
       "      <td>-0.773193</td>\n",
       "      <td>-1.489933</td>\n",
       "      <td>1.0</td>\n",
       "    </tr>\n",
       "    <tr>\n",
       "      <th>3</th>\n",
       "      <td>0.049530</td>\n",
       "      <td>-0.780820</td>\n",
       "      <td>-1.653181</td>\n",
       "      <td>0.663369</td>\n",
       "      <td>-2.492097</td>\n",
       "      <td>-1.243722</td>\n",
       "      <td>3.099476</td>\n",
       "      <td>-1.037881</td>\n",
       "      <td>0.346979</td>\n",
       "      <td>1.0</td>\n",
       "    </tr>\n",
       "    <tr>\n",
       "      <th>4</th>\n",
       "      <td>0.417725</td>\n",
       "      <td>-1.150429</td>\n",
       "      <td>0.258384</td>\n",
       "      <td>0.045522</td>\n",
       "      <td>5.676019</td>\n",
       "      <td>-0.470274</td>\n",
       "      <td>-2.669283</td>\n",
       "      <td>0.632083</td>\n",
       "      <td>-0.510847</td>\n",
       "      <td>1.0</td>\n",
       "    </tr>\n",
       "  </tbody>\n",
       "</table>\n",
       "</div>"
      ],
      "text/plain": [
       "          x1        x2        x3        x4        x5         x6         x7  \\\n",
       "Id                                                                           \n",
       "0   0.886865  0.400531  1.103694  0.135455  8.148069   9.787555  79.749674   \n",
       "1   0.303604 -1.661598  0.772695  1.696182  0.455550  86.413653  39.365705   \n",
       "2   1.065927 -1.607320  0.063896 -0.724311 -0.088216   0.132828  -0.011718   \n",
       "3   0.049530 -0.780820 -1.653181  0.663369 -2.492097  -1.243722   3.099476   \n",
       "4   0.417725 -1.150429  0.258384  0.045522  5.676019  -0.470274  -2.669283   \n",
       "\n",
       "          x8        x9  x10  \n",
       "Id                           \n",
       "0   0.045166  1.859346  1.0  \n",
       "1  -0.014858  0.821406  1.0  \n",
       "2  -0.773193 -1.489933  1.0  \n",
       "3  -1.037881  0.346979  1.0  \n",
       "4   0.632083 -0.510847  1.0  "
      ]
     },
     "execution_count": 14,
     "metadata": {},
     "output_type": "execute_result"
    }
   ],
   "source": [
    "train_X.head()"
   ]
  },
  {
   "cell_type": "code",
   "execution_count": 15,
   "metadata": {},
   "outputs": [
    {
     "data": {
      "text/plain": [
       "Id\n",
       "0     508.451970\n",
       "1    3972.980713\n",
       "2      -1.084332\n",
       "3    -340.149697\n",
       "4     572.648651\n",
       "Name: y, dtype: float64"
      ]
     },
     "execution_count": 15,
     "metadata": {},
     "output_type": "execute_result"
    }
   ],
   "source": [
    "train_Y.head()"
   ]
  },
  {
   "cell_type": "code",
   "execution_count": 16,
   "metadata": {},
   "outputs": [
    {
     "name": "stdout",
     "output_type": "stream",
     "text": [
      "Training models with alpha value 0.1\n",
      "Training models with alpha value 1\n",
      "Training models with alpha value 10\n",
      "Training models with alpha value 100\n",
      "Training models with alpha value 1000\n"
     ]
    }
   ],
   "source": [
    "\"\"\"\n",
    "For each of the pre-defined regularization values, we create a Pipeline consisting of a the ridge regressor itself.\n",
    "If we wanted, we could easily add more steps into the pipeline.\n",
    "\"\"\"\n",
    "\n",
    "ridge_alphas = [0.1, 1, 10, 100, 1000]\n",
    "\n",
    "models = {}\n",
    "for alpha_value in ridge_alphas:\n",
    "    \n",
    "    pipeline = Pipeline([('regr', Ridge(alpha=alpha_value))])\n",
    "    \n",
    "    models[alpha_value] = pipeline\n",
    "\n",
    "param_grid = {'regr__random_state': [1], # Fixing the random seed for reproducability\n",
    "              'regr__normalize': [True, False]\n",
    "             }\n",
    "\n",
    "grid_cv_estimators = {}\n",
    "for alpha_value, ridge_pipe in models.items():\n",
    "    \n",
    "    print('Training models with alpha value {}'.format(ridge_pipe.get_params()['regr__alpha']))\n",
    "    \n",
    "    grid_cv = GridSearchCV(ridge_pipe, param_grid=param_grid, cv=10, scoring='neg_mean_squared_error', verbose=False)\n",
    "    grid_cv.fit(train_X, train_Y)\n",
    "    grid_cv_estimators[alpha_value] = grid_cv\n",
    "    \n",
    "    # print('\\tAvg. RMSE of runs: ', grid_cv.cv_results_['mean_test_score'], '\\n')"
   ]
  },
  {
   "cell_type": "code",
   "execution_count": 17,
   "metadata": {},
   "outputs": [
    {
     "name": "stdout",
     "output_type": "stream",
     "text": [
      "\n",
      " ========== alpha = 0.1 ========== \n",
      "\n",
      "Best param set: \n",
      "{'regr__normalize': False, 'regr__random_state': 1}\n",
      "\n",
      " ----------\n",
      "Mean test scores for parameter combinations...\n",
      "-61783.790 (+/- 148880.862) for {'regr__normalize': True, 'regr__random_state': 1}\n",
      "-1.021 (+/- 0.376) for {'regr__normalize': False, 'regr__random_state': 1}\n",
      "----------\n",
      "\n",
      " ========== alpha = 1 ========== \n",
      "\n",
      "Best param set: \n",
      "{'regr__normalize': False, 'regr__random_state': 1}\n",
      "\n",
      " ----------\n",
      "Mean test scores for parameter combinations...\n",
      "-1637677.294 (+/- 5238253.436) for {'regr__normalize': True, 'regr__random_state': 1}\n",
      "-1.014 (+/- 0.385) for {'regr__normalize': False, 'regr__random_state': 1}\n",
      "----------\n",
      "\n",
      " ========== alpha = 10 ========== \n",
      "\n",
      "Best param set: \n",
      "{'regr__normalize': False, 'regr__random_state': 1}\n",
      "\n",
      " ----------\n",
      "Mean test scores for parameter combinations...\n",
      "-5879678.186 (+/- 19159393.144) for {'regr__normalize': True, 'regr__random_state': 1}\n",
      "-1.048 (+/- 0.380) for {'regr__normalize': False, 'regr__random_state': 1}\n",
      "----------\n",
      "\n",
      " ========== alpha = 100 ========== \n",
      "\n",
      "Best param set: \n",
      "{'regr__normalize': False, 'regr__random_state': 1}\n",
      "\n",
      " ----------\n",
      "Mean test scores for parameter combinations...\n",
      "-7159669.653 (+/- 23184362.572) for {'regr__normalize': True, 'regr__random_state': 1}\n",
      "-10.943 (+/- 34.748) for {'regr__normalize': False, 'regr__random_state': 1}\n",
      "----------\n",
      "\n",
      " ========== alpha = 1000 ========== \n",
      "\n",
      "Best param set: \n",
      "{'regr__normalize': False, 'regr__random_state': 1}\n",
      "\n",
      " ----------\n",
      "Mean test scores for parameter combinations...\n",
      "-7311208.659 (+/- 23655583.849) for {'regr__normalize': True, 'regr__random_state': 1}\n",
      "-1009.277 (+/- 3569.710) for {'regr__normalize': False, 'regr__random_state': 1}\n",
      "----------\n"
     ]
    }
   ],
   "source": [
    "results = []\n",
    "\n",
    "for alpha_val, cv_estimator in grid_cv_estimators.items():\n",
    "    print('\\n', 10 * '=', 'alpha = {}'.format(alpha_val), 10 * '=', '\\n')\n",
    "    print('Best param set: ')\n",
    "    pprint(cv_estimator.best_params_)\n",
    "\n",
    "    cv_results = cv_estimator.cv_results_\n",
    "    \n",
    "    best_ranked_idx = np.argmin(cv_results['rank_test_score'])\n",
    "    results.append(cv_results['mean_test_score'][best_ranked_idx])\n",
    "    \n",
    "    print('\\n', 10 * '-')\n",
    "    print('Mean test scores for parameter combinations...')\n",
    "    for mean, std, params in zip(cv_results['mean_test_score'], cv_results['std_test_score'], cv_results['params']):\n",
    "        print(\"%0.3f (+/- %0.03f) for %r\" % (mean, std * 2, params))\n",
    "    print(10 * '-')"
   ]
  },
  {
   "cell_type": "code",
   "execution_count": 18,
   "metadata": {},
   "outputs": [
    {
     "data": {
      "text/plain": [
       "[1.0102686682448634,\n",
       " 1.0071626772510718,\n",
       " 1.0239263586807748,\n",
       " 3.308082946025872,\n",
       " 31.76912393621593]"
      ]
     },
     "execution_count": 18,
     "metadata": {},
     "output_type": "execute_result"
    }
   ],
   "source": [
    "results = [np.sqrt(-1.0 * entry) for entry in results]  # Since sklearn optimizes for high values of neg_mean_square_error\n",
    "results  # Will be used as the submitted data"
   ]
  },
  {
   "cell_type": "code",
   "execution_count": 19,
   "metadata": {},
   "outputs": [],
   "source": [
    "data_handler.store_results_task1a(results)"
   ]
  },
  {
   "cell_type": "code",
   "execution_count": null,
   "metadata": {},
   "outputs": [],
   "source": []
  }
 ],
 "metadata": {
  "kernelspec": {
   "display_name": "ml-intro",
   "language": "python",
   "name": "ml-intro"
  },
  "language_info": {
   "codemirror_mode": {
    "name": "ipython",
    "version": 3
   },
   "file_extension": ".py",
   "mimetype": "text/x-python",
   "name": "python",
   "nbconvert_exporter": "python",
   "pygments_lexer": "ipython3",
   "version": "3.6.0"
  }
 },
 "nbformat": 4,
 "nbformat_minor": 2
}
