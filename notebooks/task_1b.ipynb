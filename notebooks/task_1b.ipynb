{
 "cells": [
  {
   "cell_type": "code",
   "execution_count": null,
   "metadata": {},
   "outputs": [],
   "source": [
    "%load_ext autoreload\n",
    "%autoreload 2\n",
    "\n",
    "from pprint import pprint\n",
    "import matplotlib.pyplot as plt\n",
    "import numpy as np\n",
    "import pandas as pd\n",
    "import seaborn as sns\n",
    "\n",
    "import scikitplot as skplot\n",
    "from sklearn.model_selection import train_test_split\n",
    "from sklearn import linear_model\n",
    "from sklearn.pipeline import make_pipeline, Pipeline\n",
    "from sklearn.model_selection import GridSearchCV, cross_validate, RandomizedSearchCV\n",
    "from sklearn.preprocessing import StandardScaler\n",
    "from sklearn.decomposition import PCA\n",
    "from sklearn.ensemble import RandomForestRegressor\n",
    "from sklearn.linear_model import LinearRegression, Ridge, BayesianRidge, Lasso, ElasticNet\n",
    "from sklearn.metrics import mean_squared_error\n",
    "from sklearn.metrics import make_scorer\n",
    "from sklearn.decomposition import PCA\n",
    "from pipelinehelper import PipelineHelper\n",
    "\n",
    "from context import ml_project\n",
    "from ml_project.task_1.transformations import aggregate_feature_matrix, get_phi_callables\n",
    "from ml_project.io import DataHandler"
   ]
  },
  {
   "cell_type": "code",
   "execution_count": null,
   "metadata": {},
   "outputs": [],
   "source": [
    "# To surpress sklearn warnings\n",
    "def warn(*args, **kwargs):\n",
    "    pass\n",
    "import warnings\n",
    "warnings.warn = warn\n",
    "_ = np.seterr(divide='ignore', invalid='ignore')\n",
    "from IPython.core.display import display, HTML\n",
    "display(HTML(\"<style>.container { width:100% !important; }</style>\"))"
   ]
  },
  {
   "cell_type": "code",
   "execution_count": null,
   "metadata": {},
   "outputs": [],
   "source": [
    "DIR_NAME = 'task1b_data'"
   ]
  },
  {
   "cell_type": "code",
   "execution_count": null,
   "metadata": {},
   "outputs": [],
   "source": [
    "data_handler = DataHandler(DIR_NAME)\n",
    "all_data = data_handler.load_train_data()\n",
    "\n",
    "X_train, X_test, y_train, y_test = train_test_split(all_data.drop(['y'], axis=1), \n",
    "                                                    all_data['y'], test_size=0.0, random_state=37)\n",
    "\n",
    "# Apply feature transforms\n",
    "# feature_mat_all = pd.concat([aggregate_feature_matrix(all_data, get_phi_callables()), all_data['y']], axis=1)\n",
    "\n",
    "feature_mat_train = aggregate_feature_matrix(X_train, get_phi_callables())\n",
    "feature_mat_test = aggregate_feature_matrix(X_test, get_phi_callables())"
   ]
  },
  {
   "cell_type": "code",
   "execution_count": null,
   "metadata": {},
   "outputs": [],
   "source": [
    "feature_mat_train.head()"
   ]
  },
  {
   "cell_type": "code",
   "execution_count": null,
   "metadata": {},
   "outputs": [],
   "source": [
    "from ml_project.explore_data.visualize import sns_correlation_plot\n",
    "from pandas.plotting import scatter_matrix\n",
    "\n",
    "SHOW_PLOTS = False\n",
    "\n",
    "if SHOW_PLOTS:\n",
    "    sns_correlation_plot(feature_mat_all, figsize=(12, 12), cmap='viridis')\n",
    "    _ = scatter_matrix(feature_mat_all, alpha=0.7, figsize=(14, 14))"
   ]
  },
  {
   "cell_type": "markdown",
   "metadata": {},
   "source": [
    "# Fitting the linear model and get weight vector"
   ]
  },
  {
   "cell_type": "code",
   "execution_count": null,
   "metadata": {},
   "outputs": [],
   "source": [
    "from sklearn.feature_selection import VarianceThreshold\n",
    "from sklearn.feature_selection import SelectKBest\n",
    "from sklearn.feature_selection import f_regression, mutual_info_regression\n",
    "from sklearn.feature_selection import RFE\n",
    "from ml_project.train.gridcv import print_gridcv_report, get_best_score_with_params, get_score_vs_one_param\n",
    "from sklearn.model_selection import RepeatedKFold"
   ]
  },
  {
   "cell_type": "code",
   "execution_count": null,
   "metadata": {},
   "outputs": [],
   "source": [
    "pipe = Pipeline([#('k_best', SelectKBest(f_regression, k=5)),\n",
    "                 #('var_tresh', VarianceThreshold()),\n",
    "                 #('std_scaler', StandardScaler()), \n",
    "                 ('regr', PipelineHelper([\n",
    "                      #('ridge', Ridge(fit_intercept=False)),\n",
    "                      ('lasso', Lasso(fit_intercept=False))\n",
    "                  ])),                   \n",
    "])\n",
    "\n",
    "param_grid = {\n",
    "    'regr__selected_model': pipe.named_steps['regr'].generate({\n",
    "        #'ridge__alpha': np.linspace(100, 500, 10000),\n",
    "        'lasso__alpha': np.logspace(-2, -1, 10000)\n",
    "        #'elastic__alpha': np.linspace(0.2, 0.4, 1000),\n",
    "        #'elastic__l1_ratio': np.linspace(0.0, 1.0, 10)\n",
    "    })\n",
    "}\n",
    "\n",
    "# grid_cv = RandomizedSearchCV(estimator=RandomForestRegressor(), param_distributions=random_grid, n_iter=100, cv=3, verbose=True, random_state=42, n_jobs=-1)\n",
    "\n",
    "# repeated_cv = RepeatedKFold(n_splits=5, n_repeats=10)\n",
    "\n",
    "grid_cv = GridSearchCV(pipe, param_grid=param_grid, cv=5, scoring='neg_mean_squared_error', \n",
    "                       verbose=True, refit=True, n_jobs=-1)\n",
    "\n",
    "\n",
    "grid_cv = grid_cv.fit(feature_mat_train.as_matrix(), y_train.as_matrix())\n",
    "best_score, best_params = get_best_score_with_params(grid_cv, neg_sqr_of_score=True)\n"
   ]
  },
  {
   "cell_type": "code",
   "execution_count": null,
   "metadata": {
    "scrolled": true
   },
   "outputs": [],
   "source": [
    "print_gridcv_report(grid_cv, neg_sqr_of_score=True)\n",
    "one_param_results = get_score_vs_one_param(grid_cv, param='alpha', neg_sqr_of_score=True)"
   ]
  },
  {
   "cell_type": "code",
   "execution_count": null,
   "metadata": {},
   "outputs": [],
   "source": [
    "plt.figure(figsize=(22, 8))\n",
    "plt.plot(one_param_results['alpha'], one_param_results['score'], alpha=0.5, linewidth=2)\n",
    "#plt.xscale('log')"
   ]
  },
  {
   "cell_type": "code",
   "execution_count": null,
   "metadata": {},
   "outputs": [],
   "source": [
    "from sklearn.metrics import mean_squared_error\n",
    "\n",
    "try:\n",
    "    y_pred = grid_cv.predict(feature_mat_test)\n",
    "    print('RMSE on out of sample test set:', mean_squared_error(y_test, y_pred)**0.5)\n",
    "except ValueError as e:\n",
    "    print(e)\n",
    "    print('Probably your test set is empty...')"
   ]
  },
  {
   "cell_type": "code",
   "execution_count": null,
   "metadata": {},
   "outputs": [],
   "source": [
    "best_estimator = grid_cv.best_estimator_\n",
    "best_estimator.__dict__\n",
    "regr_model = best_estimator.named_steps['regr'].selected_model\n",
    "coefficients = regr_model.coef_\n",
    "# selected_features = best_estimator.named_steps['k_best'].get_support()\n",
    "# pprint([(idx, val) for idx, val in enumerate(selected_features)])"
   ]
  },
  {
   "cell_type": "code",
   "execution_count": null,
   "metadata": {},
   "outputs": [],
   "source": [
    "def aggregate_coefficients(coefficients, selected_features, feature_names):\n",
    "    \"\"\"Aggregates coefficients such that left out coefficients are being set to 0 in the correct order.\"\"\"\n",
    "    \n",
    "    print('Coefficients (weights) for feature transforms...\\n')\n",
    "    \n",
    "    list_coeffs = list(coefficients)\n",
    "    list_coeffs.reverse()\n",
    "    aggregated_coeffs = [] \n",
    "    \n",
    "    for feat_name, is_selected in zip(feature_names, selected_features):\n",
    "        if is_selected:\n",
    "            aggregated_coeffs.append(list_coeffs.pop())\n",
    "        else:\n",
    "            aggregated_coeffs.append(0.0)\n",
    "    \n",
    "    for feat_name, coeff in zip(feature_names, aggregated_coeffs):\n",
    "        print('\\t{}: {}'.format(feat_name, coeff))\n",
    "    \n",
    "    return aggregated_coeffs\n",
    "        \n",
    "aggregated_coeffs = aggregate_coefficients(coefficients, 21*[True], get_phi_callables().keys())"
   ]
  },
  {
   "cell_type": "code",
   "execution_count": null,
   "metadata": {},
   "outputs": [],
   "source": [
    "data_handler.store_results_task1b(aggregated_coeffs)"
   ]
  },
  {
   "cell_type": "code",
   "execution_count": null,
   "metadata": {},
   "outputs": [],
   "source": []
  }
 ],
 "metadata": {
  "kernelspec": {
   "display_name": "ml-intro",
   "language": "python",
   "name": "ml-intro"
  },
  "language_info": {
   "codemirror_mode": {
    "name": "ipython",
    "version": 3
   },
   "file_extension": ".py",
   "mimetype": "text/x-python",
   "name": "python",
   "nbconvert_exporter": "python",
   "pygments_lexer": "ipython3",
   "version": "3.6.0"
  }
 },
 "nbformat": 4,
 "nbformat_minor": 2
}
