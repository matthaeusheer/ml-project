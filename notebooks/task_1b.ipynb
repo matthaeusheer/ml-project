{
 "cells": [
  {
   "cell_type": "code",
   "execution_count": null,
   "metadata": {},
   "outputs": [],
   "source": [
    "%load_ext autoreload\n",
    "%autoreload 2\n",
    "\n",
    "from pprint import pprint\n",
    "import matplotlib.pyplot as plt\n",
    "import numpy as np\n",
    "import pandas as pd\n",
    "import seaborn as sns\n",
    "\n",
    "import scikitplot as skplot\n",
    "from sklearn.model_selection import train_test_split\n",
    "from sklearn import linear_model\n",
    "from sklearn.pipeline import make_pipeline, Pipeline\n",
    "from sklearn.model_selection import GridSearchCV, cross_validate\n",
    "from sklearn.preprocessing import StandardScaler\n",
    "from sklearn.decomposition import PCA\n",
    "from sklearn.linear_model import LinearRegression, Ridge, BayesianRidge\n",
    "from sklearn.metrics import mean_squared_error\n",
    "from sklearn.metrics import make_scorer\n",
    "from sklearn.decomposition import PCA\n",
    "from pipelinehelper import PipelineHelper\n",
    "\n",
    "from context import ml_project\n",
    "from ml_project.task_1.transformations import aggregate_feature_matrix, get_phi_callables\n",
    "from ml_project.io import DataHandler"
   ]
  },
  {
   "cell_type": "code",
   "execution_count": null,
   "metadata": {},
   "outputs": [],
   "source": [
    "# To surpress sklearn warnings\n",
    "def warn(*args, **kwargs):\n",
    "    pass\n",
    "import warnings\n",
    "warnings.warn = warn\n",
    "np.seterr(divide='ignore', invalid='ignore')"
   ]
  },
  {
   "cell_type": "code",
   "execution_count": null,
   "metadata": {},
   "outputs": [],
   "source": [
    "DIR_NAME = 'task1b_data'"
   ]
  },
  {
   "cell_type": "code",
   "execution_count": null,
   "metadata": {},
   "outputs": [],
   "source": [
    "data_handler = DataHandler(DIR_NAME)\n",
    "all_data = data_handler.load_train_data()\n",
    "\n",
    "X_train, X_test, y_train, y_test = train_test_split(all_data.drop(['y'], axis=1), \n",
    "                                                    all_data['y'], test_size=0.33, random_state=42)\n",
    "\n",
    "# Apply feature transforms\n",
    "feature_mat_all = pd.concat([aggregate_feature_matrix(all_data, get_phi_callables()), all_data['y']], axis=1)\n",
    "feature_mat_train = aggregate_feature_matrix(X_train, get_phi_callables())\n",
    "feature_mat_test = aggregate_feature_matrix(X_test, get_phi_callables())"
   ]
  },
  {
   "cell_type": "code",
   "execution_count": null,
   "metadata": {},
   "outputs": [],
   "source": [
    "feature_mat_all.head()"
   ]
  },
  {
   "cell_type": "code",
   "execution_count": null,
   "metadata": {},
   "outputs": [],
   "source": [
    "from ml_project.explore_data.visualize import sns_correlation_plot\n",
    "\n",
    "sns_correlation_plot(feature_mat_all, figsize=(18, 18), cmap='viridis')"
   ]
  },
  {
   "cell_type": "code",
   "execution_count": null,
   "metadata": {},
   "outputs": [],
   "source": [
    "from pandas.plotting import scatter_matrix\n",
    "\n",
    "_ = scatter_matrix(feature_mat_all, alpha=0.3, figsize=(15, 15))"
   ]
  },
  {
   "cell_type": "code",
   "execution_count": null,
   "metadata": {},
   "outputs": [],
   "source": [
    "from sklearn.feature_selection import SelectKBest\n",
    "from sklearn.feature_selection import mutual_info_regression"
   ]
  },
  {
   "cell_type": "markdown",
   "metadata": {},
   "source": [
    "# Fitting the linear model and get weight vector"
   ]
  },
  {
   "cell_type": "code",
   "execution_count": null,
   "metadata": {},
   "outputs": [],
   "source": [
    "pipe = Pipeline([('std_scale', StandardScaler()),\n",
    "                 ('feature_select', SelectKBest()),\n",
    "                 ('regr', PipelineHelper([\n",
    "                     ('linregr', LinearRegression()),\n",
    "                     ('ridge', Ridge()),\n",
    "                     ('baye_ridge', BayesianRidge())\n",
    "                 ])),                   \n",
    "])\n",
    "\n",
    "param_grid = {\n",
    "    'feature_select__k': [14, 16, 18, 20, 21],\n",
    "    'regr__selected_model': pipe.named_steps['regr'].generate({\n",
    "        'ridge__alpha': [0.01, 0.1, 1, 10, 100, 1000]\n",
    "    })\n",
    "}\n",
    "\n",
    "grid_cv = GridSearchCV(pipe, param_grid=param_grid, cv=8, scoring='neg_mean_squared_error', verbose=False, refit=True)\n",
    "\n",
    "grid_cv = grid_cv.fit(feature_mat_train, y_train)"
   ]
  },
  {
   "cell_type": "code",
   "execution_count": null,
   "metadata": {},
   "outputs": [],
   "source": [
    "from ml_project.train.gridcv import print_gridcv_report\n",
    "print_gridcv_report(grid_cv, neg_sqr_of_score=True)"
   ]
  },
  {
   "cell_type": "code",
   "execution_count": null,
   "metadata": {},
   "outputs": [],
   "source": [
    "from sklearn.metrics import mean_squared_error\n",
    "\n",
    "y_pred = grid_cv.predict(feature_mat_test)\n",
    "print('RMSE on out of sample test set:', mean_squared_error(y_test, y_pred)**0.5)"
   ]
  },
  {
   "cell_type": "code",
   "execution_count": null,
   "metadata": {},
   "outputs": [],
   "source": [
    "best_estimator = grid_cv.best_estimator_\n",
    "regr_model = best_estimator.named_steps['regr'].selected_model\n",
    "coefficients = regr_model.coef_"
   ]
  },
  {
   "cell_type": "code",
   "execution_count": null,
   "metadata": {},
   "outputs": [],
   "source": [
    "def print_final_weights(coefficients):\n",
    "    print('Coefficients (weights) for feature transforms...\\n')\n",
    "    for feat_name, coeff in zip(get_phi_callables().keys(), coefficients):\n",
    "        print('\\t{}: {}'.format(feat_name, coeff))\n",
    "        \n",
    "print_final_weights(coefficients)"
   ]
  },
  {
   "cell_type": "code",
   "execution_count": null,
   "metadata": {},
   "outputs": [],
   "source": [
    "data_handler.store_results_task1b(coefficients)"
   ]
  },
  {
   "cell_type": "code",
   "execution_count": null,
   "metadata": {},
   "outputs": [],
   "source": []
  }
 ],
 "metadata": {
  "kernelspec": {
   "display_name": "ml-intro",
   "language": "python",
   "name": "ml-intro"
  },
  "language_info": {
   "codemirror_mode": {
    "name": "ipython",
    "version": 3
   },
   "file_extension": ".py",
   "mimetype": "text/x-python",
   "name": "python",
   "nbconvert_exporter": "python",
   "pygments_lexer": "ipython3",
   "version": "3.6.0"
  }
 },
 "nbformat": 4,
 "nbformat_minor": 2
}
