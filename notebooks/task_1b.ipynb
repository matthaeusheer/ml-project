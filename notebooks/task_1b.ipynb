{
 "cells": [
  {
   "cell_type": "code",
   "execution_count": null,
   "metadata": {},
   "outputs": [],
   "source": [
    "%load_ext autoreload\n",
    "%autoreload 2\n",
    "\n",
    "from pprint import pprint\n",
    "import matplotlib.pyplot as plt\n",
    "import numpy as np\n",
    "import pandas as pd\n",
    "import seaborn as sns\n",
    "\n",
    "import scikitplot as skplot\n",
    "from sklearn.model_selection import train_test_split\n",
    "from sklearn import linear_model\n",
    "from sklearn.pipeline import make_pipeline, Pipeline\n",
    "from sklearn.model_selection import GridSearchCV, cross_validate\n",
    "from sklearn.preprocessing import StandardScaler\n",
    "from sklearn.decomposition import PCA\n",
    "from sklearn.linear_model import LinearRegression, Ridge, BayesianRidge\n",
    "from sklearn.metrics import mean_squared_error\n",
    "from sklearn.metrics import make_scorer\n",
    "from sklearn.decomposition import PCA\n",
    "from pipelinehelper import PipelineHelper\n",
    "from sklearn import preprocessing\n",
    "from sklearn.metrics import make_scorer\n",
    "\n",
    "from context import ml_project\n",
    "from ml_project.task_1.transformations import aggregate_feature_matrix, get_phi_callables\n",
    "from ml_project.io import DataHandler\n",
    "\n",
    "# To surpress sklearn warnings\n",
    "def warn(*args, **kwargs):\n",
    "    pass\n",
    "import warnings\n",
    "warnings.warn = warn\n",
    "_ = np.seterr(divide='ignore', invalid='ignore')"
   ]
  },
  {
   "cell_type": "markdown",
   "metadata": {},
   "source": [
    "# How-To"
   ]
  },
  {
   "cell_type": "markdown",
   "metadata": {},
   "source": [
    "1) Download the zip folder holding the data  \n",
    "2) Create a directory inside the PROJECT_ROOT_DIR/data and give it a suitable name DIR_NAME, e.g. \"task1b_data\"   \n",
    "3) Extract the files from the zip folder into <DIR_NAME>  \n",
    "4) Set the correct DIR_NAME in the following cell...  (no need for full absolute path)"
   ]
  },
  {
   "cell_type": "code",
   "execution_count": null,
   "metadata": {},
   "outputs": [],
   "source": [
    "DIR_NAME = 'task1b_data'"
   ]
  },
  {
   "cell_type": "markdown",
   "metadata": {},
   "source": [
    "# Load Data and aggregate feature matrix"
   ]
  },
  {
   "cell_type": "code",
   "execution_count": null,
   "metadata": {},
   "outputs": [],
   "source": [
    "HELD_OUT_TEST_SET_SIZE = 0.0  # Percentage NOT used for training"
   ]
  },
  {
   "cell_type": "code",
   "execution_count": null,
   "metadata": {},
   "outputs": [],
   "source": [
    "data_handler = DataHandler(DIR_NAME)\n",
    "all_data = data_handler.load_train_data()\n",
    "\n",
    "X_train, X_test, y_train, y_test = train_test_split(all_data.drop(['y'], axis=1), \n",
    "                                                    all_data['y'], test_size=HELD_OUT_TEST_SET_SIZE,\n",
    "                                                    random_state=131\n",
    "                                                    )\n",
    "\n",
    "# Apply feature transforms\n",
    "feature_mat_all = pd.concat([aggregate_feature_matrix(all_data, get_phi_callables()), all_data['y']], axis=1)\n",
    "feature_mat_train = aggregate_feature_matrix(X_train, get_phi_callables())\n",
    "feature_mat_test = aggregate_feature_matrix(X_test, get_phi_callables())"
   ]
  },
  {
   "cell_type": "markdown",
   "metadata": {},
   "source": [
    "# Outlier removal"
   ]
  },
  {
   "cell_type": "code",
   "execution_count": null,
   "metadata": {},
   "outputs": [],
   "source": [
    "from sklearn.feature_selection import SelectKBest\n",
    "from sklearn.feature_selection import mutual_info_regression,VarianceThreshold\n",
    "from sklearn.linear_model import ElasticNet,RidgeCV,Perceptron,TheilSenRegressor,LarsCV\n",
    "from sklearn.linear_model import Lasso,LassoCV\n",
    "from sklearn.linear_model import OrthogonalMatchingPursuit\n",
    "from sklearn.linear_model import OrthogonalMatchingPursuitCV\n",
    "from sklearn.ensemble import IsolationForest\n",
    "from ml_project.train import rmse_scoring_func\n",
    "from sklearn.cluster import DBSCAN\n",
    "\n",
    "\n",
    "# outlier detector, roughly 80% should remain for a good result\n",
    "outlier_detection = DBSCAN(\n",
    "  eps = 3.6,\n",
    "  metric=\"euclidean\",\n",
    "  min_samples = 50,\n",
    "  n_jobs = -1)\n",
    "\n",
    "clusters = outlier_detection.fit_predict(feature_mat_train)\n",
    "\n",
    "# Reshape Features\n",
    "new_train=feature_mat_train\n",
    "new_train['outlier']=clusters\n",
    "feature_mat_train_new=new_train[new_train.outlier==0]\n",
    "feature_mat_train_new=feature_mat_train_new.drop(['outlier'],axis=1)\n",
    "\n",
    "# Reshape Targets\n",
    "new_y=y_train.to_frame()\n",
    "new_y['outlier']=clusters\n",
    "y_train_new=new_y[new_y.outlier==0]\n",
    "y_train_new=y_train_new.drop(['outlier'],axis=1)\n",
    "\n",
    "print('We are left with {} samples from originally {}.'.format(y_train_new.shape[0], y_train.shape[0]))"
   ]
  },
  {
   "cell_type": "markdown",
   "metadata": {},
   "source": [
    "# Fitting the linear model and get weight vector"
   ]
  },
  {
   "cell_type": "code",
   "execution_count": null,
   "metadata": {},
   "outputs": [],
   "source": [
    "from sklearn.feature_selection import SelectKBest, chi2\n",
    "from sklearn.metrics import r2_score, mean_squared_error, make_scorer\n",
    "from ml_project.train.gridcv import print_gridcv_report\n",
    "from sklearn.metrics import mean_squared_error"
   ]
  },
  {
   "cell_type": "code",
   "execution_count": null,
   "metadata": {},
   "outputs": [],
   "source": [
    "pipe = Pipeline([('regr', PipelineHelper([\n",
    "                      ('ridge', Ridge()),\n",
    "                  ])),                   \n",
    "])\n",
    "\n",
    "param_grid = {\n",
    "    'regr__selected_model': pipe.named_steps['regr'].generate({\n",
    "        'ridge__alpha': [500],\n",
    "        'ridge__fit_intercept':[False], # super important to set fit_intercept false\n",
    "        \n",
    "    })\n",
    "}\n",
    "\n",
    "grid_cv = GridSearchCV(pipe, param_grid=param_grid,\n",
    "                       cv=10, scoring=make_scorer(rmse_scoring_func, greater_is_better=False), \n",
    "                       verbose=False, refit=True)\n",
    "\n",
    "grid_cv = grid_cv.fit(feature_mat_train_new, y_train_new['y'])"
   ]
  },
  {
   "cell_type": "code",
   "execution_count": null,
   "metadata": {},
   "outputs": [],
   "source": [
    "print_gridcv_report(grid_cv, neg_sqr_of_score=False)"
   ]
  },
  {
   "cell_type": "markdown",
   "metadata": {},
   "source": [
    "# Out of sample prediction"
   ]
  },
  {
   "cell_type": "code",
   "execution_count": null,
   "metadata": {},
   "outputs": [],
   "source": [
    "try:\n",
    "    y_pred = grid_cv.predict(feature_mat_test)\n",
    "\n",
    "    print('RMSE on out of sample test set:', mean_squared_error(y_test, y_pred)**0.5)\n",
    "except ValueError as e:\n",
    "    print(e)\n",
    "    print('This only works for non empty test set, i.e. HELD_OUT_TEST_SET_SIZE > 0.0')"
   ]
  },
  {
   "cell_type": "markdown",
   "metadata": {},
   "source": [
    "# Get back the weight vector of our regression model"
   ]
  },
  {
   "cell_type": "code",
   "execution_count": null,
   "metadata": {},
   "outputs": [],
   "source": [
    "best_estimator = grid_cv.best_estimator_\n",
    "regr_model = best_estimator.named_steps['regr'].selected_model\n",
    "\n",
    "coefficients = regr_model.coef_"
   ]
  },
  {
   "cell_type": "code",
   "execution_count": null,
   "metadata": {},
   "outputs": [],
   "source": [
    "def print_final_weights(coefficients):\n",
    "    print('Coefficients (weights) for feature transforms...\\n')\n",
    "    for feat_name, coeff in zip(get_phi_callables().keys(), coefficients):\n",
    "        print('\\t{}: {}'.format(feat_name, coeff))\n",
    "        \n",
    "print_final_weights(coefficients)"
   ]
  },
  {
   "cell_type": "markdown",
   "metadata": {},
   "source": [
    "# Store the data"
   ]
  },
  {
   "cell_type": "code",
   "execution_count": null,
   "metadata": {},
   "outputs": [],
   "source": [
    "data_handler.store_results_task1b(list(coefficients))"
   ]
  },
  {
   "cell_type": "code",
   "execution_count": null,
   "metadata": {},
   "outputs": [],
   "source": []
  }
 ],
 "metadata": {
  "kernelspec": {
   "display_name": "ml-intro",
   "language": "python",
   "name": "ml-intro"
  },
  "language_info": {
   "codemirror_mode": {
    "name": "ipython",
    "version": 3
   },
   "file_extension": ".py",
   "mimetype": "text/x-python",
   "name": "python",
   "nbconvert_exporter": "python",
   "pygments_lexer": "ipython3",
   "version": "3.6.0"
  }
 },
 "nbformat": 4,
 "nbformat_minor": 2
}
